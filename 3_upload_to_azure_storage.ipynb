{
 "cells": [
  {
   "cell_type": "markdown",
   "metadata": {},
   "source": [
    "# Step 3: Upload audios and transcriptions to Azure Storage\n",
    "\n",
    "**Content**\n",
    "\n",
    "* Create Containers\n",
    "* Upload Audios and Transcriptions\n",
    "* Check Blob Files"
   ]
  },
  {
   "cell_type": "markdown",
   "metadata": {},
   "source": [
    "References:\n",
    "   * Quickstart: Manage blobs with Python v12 SDK: https://docs.microsoft.com/pt-br/azure/storage/blobs/storage-quickstart-blobs-python"
   ]
  },
  {
   "cell_type": "code",
   "execution_count": 1,
   "metadata": {},
   "outputs": [
    {
     "name": "stdout",
     "output_type": "stream",
     "text": [
      "Requirement already satisfied: azure-storage-blob in c:\\users\\blueshift\\appdata\\local\\programs\\python\\python38\\lib\\site-packages (12.13.1)\n",
      "Requirement already satisfied: azure-core<2.0.0,>=1.23.1 in c:\\users\\blueshift\\appdata\\local\\programs\\python\\python38\\lib\\site-packages (from azure-storage-blob) (1.25.1)\n",
      "Requirement already satisfied: cryptography>=2.1.4 in c:\\users\\blueshift\\appdata\\local\\programs\\python\\python38\\lib\\site-packages (from azure-storage-blob) (38.0.1)\n",
      "Requirement already satisfied: msrest>=0.6.21 in c:\\users\\blueshift\\appdata\\local\\programs\\python\\python38\\lib\\site-packages (from azure-storage-blob) (0.7.1)\n",
      "Requirement already satisfied: requests>=2.18.4 in c:\\users\\blueshift\\appdata\\local\\programs\\python\\python38\\lib\\site-packages (from azure-core<2.0.0,>=1.23.1->azure-storage-blob) (2.28.0)\n",
      "Requirement already satisfied: typing-extensions>=4.0.1 in c:\\users\\blueshift\\appdata\\local\\programs\\python\\python38\\lib\\site-packages (from azure-core<2.0.0,>=1.23.1->azure-storage-blob) (4.2.0)\n",
      "Requirement already satisfied: six>=1.11.0 in c:\\users\\blueshift\\appdata\\roaming\\python\\python38\\site-packages (from azure-core<2.0.0,>=1.23.1->azure-storage-blob) (1.16.0)\n",
      "Requirement already satisfied: cffi>=1.12 in c:\\users\\blueshift\\appdata\\roaming\\python\\python38\\site-packages (from cryptography>=2.1.4->azure-storage-blob) (1.15.0)\n",
      "Requirement already satisfied: certifi>=2017.4.17 in c:\\users\\blueshift\\appdata\\local\\programs\\python\\python38\\lib\\site-packages (from msrest>=0.6.21->azure-storage-blob) (2022.6.15)\n",
      "Requirement already satisfied: requests-oauthlib>=0.5.0 in c:\\users\\blueshift\\appdata\\local\\programs\\python\\python38\\lib\\site-packages (from msrest>=0.6.21->azure-storage-blob) (1.3.1)\n",
      "Requirement already satisfied: isodate>=0.6.0 in c:\\users\\blueshift\\appdata\\local\\programs\\python\\python38\\lib\\site-packages (from msrest>=0.6.21->azure-storage-blob) (0.6.1)\n",
      "Requirement already satisfied: pycparser in c:\\users\\blueshift\\appdata\\roaming\\python\\python38\\site-packages (from cffi>=1.12->cryptography>=2.1.4->azure-storage-blob) (2.21)\n",
      "Requirement already satisfied: urllib3<1.27,>=1.21.1 in c:\\users\\blueshift\\appdata\\local\\programs\\python\\python38\\lib\\site-packages (from requests>=2.18.4->azure-core<2.0.0,>=1.23.1->azure-storage-blob) (1.26.9)\n",
      "Requirement already satisfied: idna<4,>=2.5 in c:\\users\\blueshift\\appdata\\local\\programs\\python\\python38\\lib\\site-packages (from requests>=2.18.4->azure-core<2.0.0,>=1.23.1->azure-storage-blob) (3.3)\n",
      "Requirement already satisfied: charset-normalizer~=2.0.0 in c:\\users\\blueshift\\appdata\\local\\programs\\python\\python38\\lib\\site-packages (from requests>=2.18.4->azure-core<2.0.0,>=1.23.1->azure-storage-blob) (2.0.12)\n",
      "Requirement already satisfied: oauthlib>=3.0.0 in c:\\users\\blueshift\\appdata\\local\\programs\\python\\python38\\lib\\site-packages (from requests-oauthlib>=0.5.0->msrest>=0.6.21->azure-storage-blob) (3.2.1)\n"
     ]
    },
    {
     "name": "stderr",
     "output_type": "stream",
     "text": [
      "WARNING: You are using pip version 22.0.4; however, version 22.2.2 is available.\n",
      "You should consider upgrading via the 'c:\\users\\blueshift\\appdata\\local\\programs\\python\\python38\\python.exe -m pip install --upgrade pip' command.\n"
     ]
    }
   ],
   "source": [
    "! pip install azure-storage-blob"
   ]
  },
  {
   "cell_type": "code",
   "execution_count": 2,
   "metadata": {},
   "outputs": [],
   "source": [
    "from azure.storage.blob import BlobServiceClient, BlobClient, ContainerClient, __version__\n",
    "import os, shutil, yaml"
   ]
  },
  {
   "cell_type": "markdown",
   "metadata": {},
   "source": [
    "Load config"
   ]
  },
  {
   "cell_type": "code",
   "execution_count": 3,
   "metadata": {},
   "outputs": [],
   "source": [
    "config_file = os.path.join(\"config\",\"config.yaml\")\n",
    "with open(config_file, 'r') as ymlfile:\n",
    "    config = yaml.load(ymlfile, Loader=yaml.FullLoader)\n",
    "    \n",
    "\n",
    "##### Configurações do Azure Storage\n",
    "container_name_audios= config['azure_storage']['container_name_audios']\n",
    "container_name_transcricoes= config['azure_storage']['container_name_transcricoes']\n",
    "AZURE_STORAGE_CONNECTION_STRING = config['azure_storage']['conn_string']\n",
    "az_storage_sas_token = config['azure_storage']['sas_token']\n",
    "az_storage_name = config['azure_storage']['storage_name']\n",
    "az_storage_uri = \"https://{name}.dfs.core.windows.net/{container}/\".format(name=az_storage_name, container=container_name_audios)\n"
   ]
  },
  {
   "cell_type": "code",
   "execution_count": 4,
   "metadata": {},
   "outputs": [],
   "source": [
    "blob_service_client = BlobServiceClient.from_connection_string(AZURE_STORAGE_CONNECTION_STRING)"
   ]
  },
  {
   "cell_type": "markdown",
   "metadata": {},
   "source": [
    "## Create Containers\n",
    "Create two containers:\n",
    "* audios\n",
    "* transcricoes"
   ]
  },
  {
   "cell_type": "code",
   "execution_count": 5,
   "metadata": {},
   "outputs": [],
   "source": [
    "def create_blob_container(connect_str, containers):\n",
    "    ''' Criaçã de conteiners no Azure Storage'''\n",
    "    for i in containers:\n",
    "        # Create the BlobServiceClient object which will be used to create a container client\n",
    "        blob_service_client = BlobServiceClient.from_connection_string(connect_str)\n",
    "        try:\n",
    "            # Create the container\n",
    "            container_client = blob_service_client.create_container(i)\n",
    "        except Exception as e:\n",
    "            if e.error_code == 'ContainerAlreadyExists':\n",
    "                print (\"The container {} had already been created.\".format(i))\n",
    "            else:\n",
    "                print(\"Container {}: {}\".format(i,e.message))\n",
    "        else: \n",
    "            print(\"Container {} successfully added.\".format(i))"
   ]
  },
  {
   "cell_type": "code",
   "execution_count": 6,
   "metadata": {},
   "outputs": [
    {
     "name": "stdout",
     "output_type": "stream",
     "text": [
      "Container audios successfully added.\n",
      "Container transcricoes successfully added.\n"
     ]
    }
   ],
   "source": [
    "create_blob_container(AZURE_STORAGE_CONNECTION_STRING, [container_name_audios, container_name_transcricoes])\n"
   ]
  },
  {
   "cell_type": "markdown",
   "metadata": {},
   "source": [
    "## Upload Audios and Transcriptions"
   ]
  },
  {
   "cell_type": "code",
   "execution_count": 7,
   "metadata": {},
   "outputs": [],
   "source": [
    "def list_files(dir):\n",
    "    '''Listar arquivos em um diretório específico no SO'''\n",
    "    return [f for f in os.listdir(dir) if os.path.isfile(os.path.join(dir, f))]"
   ]
  },
  {
   "cell_type": "code",
   "execution_count": 8,
   "metadata": {},
   "outputs": [],
   "source": [
    "def upload_files_to_storage(container_name):\n",
    "    for i in list_files(container_name):\n",
    "        blob_client = blob_service_client.get_blob_client(container=container_name, blob=i)\n",
    "        print(\"\\nUploading to Azure Storage as blob:\\n\\t\" + i)\n",
    "        \n",
    "        # Upload the created file\n",
    "        with open(os.path.join(container_name, i), \"rb\") as data:\n",
    "            blob_client.upload_blob(data, overwrite=True)"
   ]
  },
  {
   "cell_type": "code",
   "execution_count": 10,
   "metadata": {},
   "outputs": [
    {
     "name": "stdout",
     "output_type": "stream",
     "text": [
      "\n",
      "Uploading to Azure Storage as blob:\n",
      "\tid_1.wav\n",
      "\n",
      "Uploading to Azure Storage as blob:\n",
      "\tid_2.wav\n",
      "\n",
      "Uploading to Azure Storage as blob:\n",
      "\tid_3.wav\n",
      "\n",
      "Uploading to Azure Storage as blob:\n",
      "\tid_4.wav\n",
      "\n",
      "Uploading to Azure Storage as blob:\n",
      "\tid_5.wav\n"
     ]
    }
   ],
   "source": [
    "#Audios\n",
    "upload_files_to_storage(container_name_audios)\n"
   ]
  },
  {
   "cell_type": "code",
   "execution_count": 11,
   "metadata": {},
   "outputs": [
    {
     "name": "stdout",
     "output_type": "stream",
     "text": [
      "\n",
      "Uploading to Azure Storage as blob:\n",
      "\tid_1.json\n",
      "\n",
      "Uploading to Azure Storage as blob:\n",
      "\tid_2.json\n",
      "\n",
      "Uploading to Azure Storage as blob:\n",
      "\tid_3.json\n",
      "\n",
      "Uploading to Azure Storage as blob:\n",
      "\tid_4.json\n",
      "\n",
      "Uploading to Azure Storage as blob:\n",
      "\tid_5.json\n"
     ]
    }
   ],
   "source": [
    "#Transcrições\n",
    "upload_files_to_storage(container_name_transcricoes)\n"
   ]
  },
  {
   "cell_type": "markdown",
   "metadata": {},
   "source": [
    "## Check Blob Files\n"
   ]
  },
  {
   "cell_type": "code",
   "execution_count": 12,
   "metadata": {},
   "outputs": [],
   "source": [
    "def list_blobs_from_container(container_name):\n",
    "    '''Listar arquivos dentro de um container do Azure Storage'''\n",
    "    container_client=blob_service_client.get_container_client(container_name)\n",
    "    blob_list = container_client.list_blobs()\n",
    "    audios = []\n",
    "    for blob in blob_list:\n",
    "        audios.append(blob.name)\n",
    "    return audios"
   ]
  },
  {
   "cell_type": "code",
   "execution_count": 13,
   "metadata": {},
   "outputs": [
    {
     "data": {
      "text/plain": [
       "['id_1.wav', 'id_2.wav', 'id_3.wav', 'id_4.wav', 'id_5.wav']"
      ]
     },
     "execution_count": 13,
     "metadata": {},
     "output_type": "execute_result"
    }
   ],
   "source": [
    "#Audios\n",
    "list_blobs_from_container(container_name_audios)\n"
   ]
  },
  {
   "cell_type": "code",
   "execution_count": 14,
   "metadata": {},
   "outputs": [
    {
     "data": {
      "text/plain": [
       "['id_1.json', 'id_2.json', 'id_3.json', 'id_4.json', 'id_5.json']"
      ]
     },
     "execution_count": 14,
     "metadata": {},
     "output_type": "execute_result"
    }
   ],
   "source": [
    "#Transcrições\n",
    "list_blobs_from_container(container_name_transcricoes)\n"
   ]
  },
  {
   "cell_type": "code",
   "execution_count": null,
   "metadata": {},
   "outputs": [],
   "source": []
  }
 ],
 "metadata": {
  "kernelspec": {
   "display_name": "Python 3.8.9 64-bit",
   "language": "python",
   "name": "python3"
  },
  "language_info": {
   "codemirror_mode": {
    "name": "ipython",
    "version": 3
   },
   "file_extension": ".py",
   "mimetype": "text/x-python",
   "name": "python",
   "nbconvert_exporter": "python",
   "pygments_lexer": "ipython3",
   "version": "3.8.9"
  },
  "vscode": {
   "interpreter": {
    "hash": "9f41118fa6b13dea828fcce5b5917d49ed3e4ecc2372d47ba334fda4c1626d20"
   }
  }
 },
 "nbformat": 4,
 "nbformat_minor": 4
}
